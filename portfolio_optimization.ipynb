{
 "cells": [
  {
   "cell_type": "code",
   "execution_count": null,
   "metadata": {},
   "outputs": [],
   "source": [
    "\"\"\"\n",
    "This IPython Notebook implements a portfolio optimization tool based on Modern\n",
    "Portfolio Theory, developed by Harry Markowitz. Historical stock data from \n",
    "S&P 500, Nasdaq Composite, and Dow Jones Industrial Average (DJIA) are used \n",
    "to calculate the optimal portfolio weights that minimize portfolio risk for \n",
    "a given expected return.\n",
    "\n",
    "User provides the stock tickers they're interested in, along with minimum \n",
    "weight they desire to allocate to each stock in their portfolio. Script then\n",
    "determines the range of possible returns given the minimum weights and prompts\n",
    "the user to specify desired expected return.\n",
    "\n",
    "The script then uses mathematical optimization to determine the optimal \n",
    "portfolio composition that achieves the user's desired return while minimizing \n",
    "portfolio risk. This is done with constraints that weights of all stocks in \n",
    "portfolio add up to 1 and no individual weight is below user-defined minimum.\n",
    "\n",
    "Historical stock data is fetched from yahoo_fin library and optimization \n",
    "is achieved through the scipy library. \n",
    "\n",
    "How to use: \n",
    "1. Run the script in Python\n",
    "2. When prompted, enter tickers of stock you're interested in \n",
    "3. When prompted, enter minimum weight for each stock (each between 0 and 1,\n",
    "   and their sum totalling up to less than 1) \n",
    "4. When prompted, enter desired expected return (between calculated min and \n",
    "   max possible returns)\n",
    "5. Script will then print out optimal weights for portfolio, along with \n",
    "   portfolio's expected return and associated standard deviation \n",
    "   \n",
    "This script assumes the user has an understanding of financial markets and \n",
    "Modern Portfolio Theory. This script should not be used as a financial advice.\n",
    "\"\"\""
   ]
  },
  {
   "cell_type": "code",
   "execution_count": 2,
   "metadata": {},
   "outputs": [],
   "source": [
    "# Install if necessary \n",
    "\n",
    "# pip install yahoo_fin\n",
    "# pip install yahoo_fin --upgrade\n",
    "# pip install requests_html"
   ]
  },
  {
   "cell_type": "code",
   "execution_count": 30,
   "metadata": {},
   "outputs": [],
   "source": [
    "import warnings\n",
    "from datetime import date, datetime\n",
    "from dateutil.relativedelta import relativedelta\n",
    "import numpy as np\n",
    "import pandas as pd\n",
    "import pickle\n",
    "from scipy.optimize import minimize\n",
    "from scipy.optimize import Bounds\n",
    "import yahoo_fin.stock_info as si\n",
    "from yahoo_fin.stock_info import get_data\n",
    "import multiprocessing as mp\n",
    "import matplotlib.pyplot as plt\n",
    "\n",
    "warnings.filterwarnings('ignore')"
   ]
  },
  {
   "cell_type": "code",
   "execution_count": 4,
   "metadata": {},
   "outputs": [
    {
     "name": "stdout",
     "output_type": "stream",
     "text": [
      "Number of stocks in S&P 500: 503\n",
      "Number of stocks in Nasdaq Composite: 5259\n",
      "Number of stocks in DJIA: 30\n"
     ]
    }
   ],
   "source": [
    "# List of tickers for S&P 500, Nasdaq Composite and DJIA \n",
    "sp500_list = si.tickers_sp500() \n",
    "print(f\"Number of stocks in S&P 500: {len(sp500_list)}\")\n",
    "\n",
    "nasdaq_list = si.tickers_nasdaq() \n",
    "print(f\"Number of stocks in Nasdaq Composite: {len(nasdaq_list)}\")\n",
    "\n",
    "dow_list = si.tickers_dow() \n",
    "print(f\"Number of stocks in DJIA: {len(dow_list)}\")"
   ]
  },
  {
   "cell_type": "code",
   "execution_count": 5,
   "metadata": {},
   "outputs": [],
   "source": [
    "# Combine information on all stock tickers from S&P 500, Nasdaq Composite and \n",
    "# DJIA into one combined list \n",
    "combined_list = list(set(sp500_list + nasdaq_list + dow_list))"
   ]
  },
  {
   "cell_type": "code",
   "execution_count": null,
   "metadata": {},
   "outputs": [],
   "source": [
    "# This code takes around 30 minutes for all stock tickers from \n",
    "# S&P 500, Nasdaq Composite and DJIA \n",
    "\n",
    "# Date today, format it as \"dd/mm/yyyy\"\n",
    "date_today = date.today().strftime(\"%d/%m/%Y\")\n",
    "\n",
    "# Date 10 years ago \n",
    "date_today_split = date_today.split(\"/\") \n",
    "date_today_split[2] = str(int(date_today_split[2])-10)\n",
    "date_start = \"/\".join(date_today_split) \n",
    "\n",
    "# Dictionary to store historical date per ticker \n",
    "h_data = {} \n",
    "\n",
    "for ticker in combined_list: \n",
    "    try: \n",
    "        temp_data = get_data(ticker, start_date=date_start, end_date=\n",
    "                             date_today,index_as_date=False, interval=\"1wk\") \n",
    "        if not (temp_data['date'].iloc[-1] == temp_data['date'].iloc[0]): \n",
    "            h_data[ticker] = temp_data \n",
    "    except Exception as e: \n",
    "        print(f\"Could not fetch data for {ticker}, Error {e}\")"
   ]
  },
  {
   "cell_type": "code",
   "execution_count": 12,
   "metadata": {},
   "outputs": [],
   "source": [
    "# Save h_data to a pickle file\n",
    "# with open('C:\\\\Users\\\\sjpar\\\\Desktop\\\\iCloudDrive\\\\DataProject2\\\\h_data.pkl',\n",
    "#           'wb') as f:\n",
    "#       if h_data: \n",
    "#           pickle.dump(h_data, f)"
   ]
  },
  {
   "cell_type": "code",
   "execution_count": null,
   "metadata": {},
   "outputs": [],
   "source": [
    "# Open saved h_data \n",
    "with open('C:\\\\Users\\\\sjpar\\\\Desktop\\\\iCloudDrive\\\\DataProject2\\\\h_data.pkl',\n",
    "          'rb') as f:\n",
    "    h_data = pickle.load(f)"
   ]
  },
  {
   "cell_type": "code",
   "execution_count": 13,
   "metadata": {},
   "outputs": [],
   "source": [
    "# Initialize dictionary to store return & risk data for each ticker \n",
    "return_risk_data = {} \n",
    "\n",
    "# Initialize dataframe to store return data for each ticker\n",
    "return_df = pd.DataFrame() \n",
    "\n",
    "for ticker in h_data: \n",
    "    # Calculate annual return \n",
    "    time_difference = relativedelta(h_data[ticker]['date'].iloc[-1],\n",
    "                                    h_data[ticker]['date'].iloc[0])\n",
    "    duration = round(time_difference.years + time_difference.months/12 + \n",
    "                     time_difference.days/365, 3)\n",
    "    annual_return = (h_data[ticker]['adjclose'].iloc[-1] /\n",
    "                     h_data[ticker]['adjclose'].iloc[0]) ** (1/duration) - 1 \n",
    "    \n",
    "    # Calculate annual risk \n",
    "    returns = h_data[ticker]['adjclose'].pct_change().dropna() \n",
    "    risk = returns.std() \n",
    "    annual_risk = risk * np.sqrt(52) \n",
    "    \n",
    "    return_df[ticker] = returns \n",
    "    \n",
    "    return_risk_data[ticker] = (annual_return, annual_risk)\n",
    "\n",
    "# Calculate covariance matrix \n",
    "cov_matrix = return_df.cov() "
   ]
  },
  {
   "cell_type": "code",
   "execution_count": 77,
   "metadata": {},
   "outputs": [
    {
     "name": "stdout",
     "output_type": "stream",
     "text": [
      "Optimal portfolio weights:\n",
      "AMZN : 17.99%\n",
      "TSLA : 3.27%\n",
      "MSFT : 24.26%\n",
      "META : 16.32%\n",
      "NVDA : 38.16%\n",
      "\n",
      "Portfolio return: 40.0000%\n",
      "Portfolio standard deviation: 3.0152%\n"
     ]
    }
   ],
   "source": [
    "user_input = input(\"Tickers of the stocks (separated by space): \")\n",
    "tickers = list(set(user_input.split()))\n",
    "\n",
    "# Check that user input contains valid tickers \n",
    "valid_tickers = [ticker for ticker in tickers if ticker in return_risk_data]\n",
    "if len(valid_tickers) < len(tickers): \n",
    "    diff = len(tickers) - len(valid_tickers)\n",
    "    print(f\"Warning: {diff} tickers not found in data and have been ignored\",\n",
    "          end=\"\\n\\n\")\n",
    "    \n",
    "# Return and risk data for valid tickers \n",
    "return_data = [return_risk_data[ticker][0] for ticker in valid_tickers]\n",
    "risk_data = [return_risk_data[ticker][1] for ticker in valid_tickers]\n",
    "\n",
    "# Covariance matrix for valid tickers only \n",
    "cov_matrix_input = return_df[valid_tickers].cov() \n",
    "\n",
    "# Ask user for minimum weights\n",
    "min_weights = {}\n",
    "for ticker in valid_tickers:\n",
    "    min_weight = float(input(f\"Enter minimum weight for {ticker} (0 - 1): \"))\n",
    "    min_weights[ticker] = min_weight\n",
    "assert sum(min_weights.values()) <= 1, \"Sum of minimum weight greater than 1\"\n",
    "\n",
    "# Find range of possible return considering the minimum weights \n",
    "min_return = sum([min_weights[ticker] * return_risk_data[ticker][0] for\n",
    "                  ticker in valid_tickers]) + min(return_data) *\\\n",
    "                      (1-sum(min_weights.values())) \n",
    "max_return = sum([min_weights[ticker] * return_risk_data[ticker][0] for\n",
    "                  ticker in valid_tickers]) + max(return_data) *\\\n",
    "                      (1-sum(min_weights.values()))\n",
    "\n",
    "# Ask user for desired return\n",
    "user_return = float(input(f\"Enter desired expected return \\\n",
    "    (between {min_return:.4f} and {max_return:.4f}): \"))\n",
    "assert min_return <= user_return <= max_return, \"User return is out of range\"\n",
    "\n",
    "# Define the objective function\n",
    "def objective(weights):\n",
    "    return np.dot(weights.T, np.dot(cov_matrix_input, weights))\n",
    "\n",
    "# Initial guess for weights of portfolio: weight for each ticker set to \n",
    "# minimum weight (min_weights[ticker]) and remaining weight distributed \n",
    "# equally among rest of tickers \n",
    "weights_guess = [min_weights[ticker] + (1 - sum(min_weights.values())) /\n",
    "                 len(valid_tickers) for ticker in valid_tickers]\n",
    "\n",
    "# Lower bound for weights set to minimum weight (min_weights[ticker]) \n",
    "# Upper bound is set to 1.0  \n",
    "bounds = Bounds([min_weights[ticker] for ticker in valid_tickers],\n",
    "                [1.0]*len(valid_tickers))\n",
    "\n",
    "# Define constraints:\n",
    "# 1. Weights sum up to 1 \n",
    "# 2. Portfolio return equal to user's desired return \n",
    "constraints = [{'type': 'eq', 'fun': lambda x: np.sum(x) - 1}, \n",
    "               {'type': 'eq', 'fun': lambda x: \n",
    "                   np.dot(x, return_data) - user_return}] \n",
    "\n",
    "# Solve the optimization problem\n",
    "optimal_portfolio = minimize(fun=objective, x0=weights_guess, method='SLSQP',\n",
    "                             bounds=bounds, constraints=constraints)\n",
    "\n",
    "# Make sure that the optimization was successful \n",
    "if not optimal_portfolio.success: \n",
    "    print(\"Optimization not successful. Try again.\")\n",
    "    print(\"Exit message: \", optimal_portfolio.message) \n",
    "    exit(1) \n",
    "\n",
    "# Calculate portfolio return and standard deviation \n",
    "portfolio_return = np.dot(optimal_portfolio.x, return_data)\n",
    "portfolio_variance = np.dot(optimal_portfolio.x.T, np.dot(cov_matrix_input,\n",
    "                                                          optimal_portfolio.x))\n",
    "portfolio_std_dev = np.sqrt(portfolio_variance)\n",
    "\n",
    "print(\"Optimal portfolio weights:\") \n",
    "for i in range(len(valid_tickers)): \n",
    "    print(f\"{valid_tickers[i]:<5}: {optimal_portfolio.x[i] * 100:.2f}%\")\n",
    "print() \n",
    "\n",
    "print(f\"Portfolio return: {portfolio_return * 100:.4f}%\")\n",
    "print(f\"Portfolio standard deviation: {portfolio_std_dev * 100:.4f}%\")"
   ]
  },
  {
   "cell_type": "code",
   "execution_count": 78,
   "metadata": {},
   "outputs": [
    {
     "data": {
      "image/png": "[encoded data removed]",
      "text/plain": [
       "<Figure size 1000x700 with 2 Axes>"
      ]
     },
     "metadata": {},
     "output_type": "display_data"
    }
   ],
   "source": [
    "# Get risk free rate derived from Treasury Yield 10 Years (^TNX) \n",
    "risk_free_rate = get_data(\"^TNX\")['adjclose'].dropna()[-1]\n",
    "\n",
    "# Efficient frontier\n",
    "target_returns = np.linspace(min_return, max_return, 50)\n",
    "portfolio_std_devs = []\n",
    "\n",
    "for target_return in target_returns:\n",
    "    constraints = [{'type': 'eq', 'fun': lambda x: np.sum(x) - 1},\n",
    "                   {'type': 'eq', 'fun': lambda x: \n",
    "                       np.dot(x, return_data) - target_return}]\n",
    "    \n",
    "    optimal_portfolio = minimize(fun=objective, x0=weights_guess,\n",
    "                                 method='SLSQP', bounds=bounds,\n",
    "                                 constraints=constraints)\n",
    "    \n",
    "    portfolio_variance = np.dot(optimal_portfolio.x.T, \n",
    "                                np.dot(cov_matrix_input, optimal_portfolio.x))\n",
    "    portfolio_std_dev = np.sqrt(portfolio_variance)\n",
    "    \n",
    "    portfolio_std_devs.append(portfolio_std_dev)\n",
    "\n",
    "# Plotting the efficient frontier\n",
    "plt.figure(figsize=(10, 7))\n",
    "plt.scatter(portfolio_std_devs, target_returns, c=(\n",
    "    target_returns-risk_free_rate) / portfolio_std_devs, cmap='viridis')\n",
    "plt.colorbar(label='Sharpe Ratio')\n",
    "plt.xlabel('Volatility(Standard Deviation)')\n",
    "plt.ylabel('Return')\n",
    "plt.title('Efficient Frontier')\n",
    "plt.grid(True)\n",
    "plt.show()"
   ]
  }
 ],
 "metadata": {
  "kernelspec": {
   "display_name": "base",
   "language": "python",
   "name": "python3"
  },
  "language_info": {
   "codemirror_mode": {
    "name": "ipython",
    "version": 3
   },
   "file_extension": ".py",
   "mimetype": "text/x-python",
   "name": "python",
   "nbconvert_exporter": "python",
   "pygments_lexer": "ipython3",
   "version": "3.9.13"
  },
  "orig_nbformat": 4
 },
 "nbformat": 4,
 "nbformat_minor": 2
}
